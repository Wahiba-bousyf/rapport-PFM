{
 "cells": [
  {
   "cell_type": "code",
   "execution_count": null,
   "id": "c09675a3",
   "metadata": {},
   "outputs": [],
   "source": []
  },
  {
   "cell_type": "code",
   "execution_count": null,
   "id": "ad63616d",
   "metadata": {},
   "outputs": [],
   "source": []
  },
  {
   "cell_type": "code",
   "execution_count": 4,
   "id": "90995a40",
   "metadata": {},
   "outputs": [
    {
     "name": "stdout",
     "output_type": "stream",
     "text": [
      "['Béni Mellal-Khénifra', 'Casablanca-Settat', 'Dakhla-Oued Ed-Dahab', 'Drâa-Tafilalet', 'Fès-Meknès', 'Guelmim-Oued Noun', \"L'Oriental\", 'Laâyoune-Sakia El Hamra', 'Marrakech-Safi', 'Rabat-Salé-Kénitra', 'Souss-Massa', 'Tanger-Tétouan-Al Hoceima', nan]\n"
     ]
    },
    {
     "name": "stderr",
     "output_type": "stream",
     "text": [
      "<>:14: SyntaxWarning: invalid escape sequence '\\l'\n",
      "<>:14: SyntaxWarning: invalid escape sequence '\\l'\n",
      "C:\\Users\\Client\\AppData\\Local\\Temp\\ipykernel_15068\\520501828.py:14: SyntaxWarning: invalid escape sequence '\\l'\n",
      "  encoder_rigion = joblib.load('encoders\\label_encoder_region.joblib')\n"
     ]
    }
   ],
   "source": [
    "import pandas as pd\n",
    "import joblib\n",
    "\n",
    "# encoder = joblib.load('dep\\encodage_apres_equilibre\\label_encoder_final_region.joblib')\n",
    "\n",
    "# encoder_rigion = joblib.load('dep\\encodage_apres_equilibre\\label_encoder_final_region.joblib')\n",
    "# region_mapping = pd.DataFrame({\n",
    "#     'Code': range(len(encoder_rigion.classes_)),\n",
    "#     'Région': encoder_rigion.classes_\n",
    "# })\n",
    "# region_list=region_mapping.Région\n",
    "# print(list(region_list))\n",
    "\n",
    "encoder_rigion = joblib.load('encoders\\label_encoder_region.joblib')\n",
    "region_mapping = pd.DataFrame({\n",
    "    'Code': range(len(encoder_rigion.classes_)),\n",
    "    'Region': encoder_rigion.classes_\n",
    "})\n",
    "region_list=list(region_mapping.Region)\n",
    "print(region_list)"
   ]
  },
  {
   "cell_type": "code",
   "execution_count": null,
   "id": "21fc3da6",
   "metadata": {},
   "outputs": [],
   "source": []
  }
 ],
 "metadata": {
  "kernelspec": {
   "display_name": "base",
   "language": "python",
   "name": "python3"
  },
  "language_info": {
   "codemirror_mode": {
    "name": "ipython",
    "version": 3
   },
   "file_extension": ".py",
   "mimetype": "text/x-python",
   "name": "python",
   "nbconvert_exporter": "python",
   "pygments_lexer": "ipython3",
   "version": "3.12.4"
  }
 },
 "nbformat": 4,
 "nbformat_minor": 5
}
