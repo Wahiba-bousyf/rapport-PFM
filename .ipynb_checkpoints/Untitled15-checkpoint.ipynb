{
 "cells": [
  {
   "cell_type": "code",
   "execution_count": 1,
   "id": "15ba0df8-59db-438c-b79d-3da949531a6d",
   "metadata": {},
   "outputs": [],
   "source": [
    "import requests\n",
    "from bs4 import BeautifulSoup\n",
    "import pandas as pd"
   ]
  },
  {
   "cell_type": "code",
   "execution_count": 29,
   "id": "0bc53b3f-6b97-471f-81ef-7ece8fe231a0",
   "metadata": {},
   "outputs": [
    {
     "name": "stdout",
     "output_type": "stream",
     "text": [
      "Empty DataFrame\n",
      "Columns: []\n",
      "Index: []\n"
     ]
    }
   ],
   "source": [
    "# 1. Envoyer une requête\n",
    "url = \"https://www.moteur.ma/fr/voiture/\"\n",
    "response = requests.get(url)\n",
    "#print(response)\n",
    "soup = BeautifulSoup(response.text, 'html.parser')\n",
    "#print(soup)\n",
    "\n",
    "# 2. Extraire les données\n",
    "annonces = []\n",
    "for annonce in soup.find_all('div', class_=\"inner\"):\n",
    "    titre = annonce.find('h3',class_=\"text-center title_mark_model\").text.strip()\n",
    "    prix = annonce.find('div', class_=\"price price_block\").text.strip()\n",
    "    type=annonce.find('span',class_=\"value_fuel\").text.strip()\n",
    "    #km = annonce.find('span', class_='kilométrage').text.strip()\n",
    "    \n",
    "    annonces.append({\n",
    "        'Titre': titre,\n",
    "        'Prix': prix,\n",
    "        'Type':type,\n",
    "        #'Kilométrage': km\n",
    "    })\n",
    "\n",
    "# 3. Sauvegarder en CSV\n",
    "df = pd.DataFrame(annonces)\n",
    "print(df)\n",
    "df.to_csv('annonces_voitures.csv', index=False)"
   ]
  },
  {
   "cell_type": "code",
   "execution_count": null,
   "id": "4309ebe6-6132-436a-a8fd-da5b7d636a91",
   "metadata": {},
   "outputs": [],
   "source": []
  }
 ],
 "metadata": {
  "kernelspec": {
   "display_name": "Python 3 (ipykernel)",
   "language": "python",
   "name": "python3"
  },
  "language_info": {
   "codemirror_mode": {
    "name": "ipython",
    "version": 3
   },
   "file_extension": ".py",
   "mimetype": "text/x-python",
   "name": "python",
   "nbconvert_exporter": "python",
   "pygments_lexer": "ipython3",
   "version": "3.12.4"
  }
 },
 "nbformat": 4,
 "nbformat_minor": 5
}
