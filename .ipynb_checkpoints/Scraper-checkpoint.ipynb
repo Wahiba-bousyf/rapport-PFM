{
 "cells": [
  {
   "cell_type": "code",
   "execution_count": 1,
   "id": "cd9e7f24-92fd-40e7-bb2b-a23e6323e07a",
   "metadata": {},
   "outputs": [],
   "source": [
    "import requests\n",
    "from bs4 import BeautifulSoup\n",
    "from urllib.parse import urljoin\n",
    "import pandas as pd\n",
    "import time\n",
    "import json"
   ]
  },
  {
   "cell_type": "markdown",
   "id": "6190afcd-b403-4ec9-9bfc-761f0894bd10",
   "metadata": {},
   "source": [
    "# Scrape car listings from Avito.ma"
   ]
  },
  {
   "cell_type": "code",
   "execution_count": 2,
   "id": "a57860d3-3827-4124-aa65-b4111df8c6bc",
   "metadata": {},
   "outputs": [],
   "source": [
    "BASE_URL = \"https://www.avito.ma\"\n",
    "HEADERS = {\n",
    "    'User-Agent': 'Mozilla/5.0 (Windows NT 10.0; Win64; x64) AppleWebKit/537.36 (KHTML, like Gecko) Chrome/120.0.0.0 Safari/537.36'\n",
    "}\n",
    "\n",
    "def get_car_links(pages=5):\n",
    "    \"\"\"Récupère les liens des annonces avec la pagination spécifique d'Avito\"\"\"\n",
    "    car_links = []\n",
    "    \n",
    "    for page in range(0, pages ):\n",
    "        # Construction spéciale des URLs selon la page\n",
    "        if page == 1:\n",
    "            url = f\"{BASE_URL}/fr/maroc/voiture\"\n",
    "        else:\n",
    "            url = f\"{BASE_URL}/fr/maroc/voiture?o={page}\"\n",
    "        \n",
    "        try:\n",
    "            response = requests.get(url, headers=HEADERS)\n",
    "            response.raise_for_status() \n",
    "            soup = BeautifulSoup(response.text, 'html.parser')\n",
    "            \n",
    "            # Sélecteur précis avec vérification des liens de voitures\n",
    "            listings = soup.select('a.sc-1jge648-0[href*=\"/fr/\"][href*=\"voitures\"]')\n",
    "            \n",
    "            for link in listings:\n",
    "                full_url = urljoin(BASE_URL, link['href'])\n",
    "                if full_url not in car_links:\n",
    "                    car_links.append(full_url)\n",
    "            \n",
    "            print(f\" Page {page + 1} traitée - {len(listings)} nouvelles annonces\")\n",
    "            time.sleep(3) \n",
    "            \n",
    "        except Exception as e:\n",
    "            print(f\" Erreur page {page}: {str(e)}\")\n",
    "            continue\n",
    "    \n",
    "    print(f\"\\nTotal des annonces uniques trouvées : {len(car_links)}\")\n",
    "    return car_links"
   ]
  },
  {
   "cell_type": "markdown",
   "id": "f2c3ce9b-c2ad-4fb1-98a1-7e2567dfad8e",
   "metadata": {},
   "source": [
    "# Extracting detailed information from individual car listing pages on Avito.ma"
   ]
  },
  {
   "cell_type": "code",
   "execution_count": 3,
   "id": "0db18e16-83e3-4c07-8dcc-4e8585a9cec5",
   "metadata": {},
   "outputs": [],
   "source": [
    "def scrape_car_details(url):\n",
    "    try:\n",
    "        response = requests.get(url, headers=HEADERS)\n",
    "        response.raise_for_status()\n",
    "        soup = BeautifulSoup(response.text, 'html.parser')\n",
    "        \n",
    "        \n",
    "        script = soup.find('script', id=\"__NEXT_DATA__\")\n",
    "        print('Script Body : ', type(script))\n",
    "        json_data = script.string\n",
    "        scre = json.loads(json_data)\n",
    "        print('JSON Body : ', scre[\"props\"][\"pageProps\"][\"initialReduxState\"][\"ad\"])\n",
    "        \n",
    "        \n",
    "        if not script or not script.string:\n",
    "            print(\"Script avec l'ID '__NEXT_DATA__' non trouvé ou vide.\")\n",
    "            return None\n",
    "            \n",
    "        try:\n",
    "            listing = script.get('props',{}).get(\"pageProps\", {}).get(\"initialReduxState\", {})\n",
    "            details = {\n",
    "                        \"titre\": listing.get(\"adInfo\", {}).get(\"subject\", \"\"),\n",
    "                        \"prix\": listing.get(\"adInfo\", {}).get(\"price\", {}).get(\"value\", \"NULL\"),\n",
    "                        \"ville\": listing.get(\"adInfo\", {}).get(\"location\", {}).get(\"city\", {}).get(\"name\", \"NULL\"),\n",
    "                        \"description\": listing.get(\"adInfo\", {}).get(\"description\", \"NULL\"),\n",
    "                        \"type\": listing.get(\"adInfo\", {}).get(\"type\", {}).get(\"label\", \"NULL\"),\n",
    "                        \"category\": listing.get(\"adInfo\", {}).get(\"category\", {}).get(\"name\", \"NULL\"),\n",
    "                        \"phone\": listing.get(\"adInfo\", {}).get(\"phone\", \"NULL\"),\n",
    "                        \"seller_name\": listing.get(\"adInfo\", {}).get(\"seller\", {}).get(\"name\", \"NULL\"),\n",
    "                        \"seller_address\": listing.get(\"adInfo\", {}).get(\"seller\", {}).get(\"address\", \"NULL\"),\n",
    "                        \"seller_img\": listing.get(\"adInfo\", {}).get(\"seller\", {}).get(\"img\", \"NULL\"),\n",
    "                        \"seller_uuid\": listing.get(\"adInfo\", {}).get(\"seller\", {}).get(\"uuid\", \"NULL\"),\n",
    "                        \"images\": [image.get(\"paths\", {}).get(\"standard\", \"NULL\") for image in listing.get(\"adInfo\", {}).get(\"images\", [])],\n",
    "                        \"url\": listing.get(\"adInfo\", {}).get(\"friendlyUrl\", {}).get(\"url\", \"NULL\")\n",
    "                    }\n",
    "            return listing\n",
    "            \n",
    "        except (json.JSONDecodeError, KeyError) as json_err:\n",
    "            print(\"Erreur lors du parsing JSON ou clé manquante:\", json_err)\n",
    "            return None\n",
    "    \n",
    "    except requests.RequestException as e:\n",
    "        print(f\"Erreur de requête sur {url[:50]}...: {str(e)}\")\n",
    "        return None\n"
   ]
  },
  {
   "cell_type": "markdown",
   "id": "86f42528-590f-4869-b2c1-b2a0a24d1178",
   "metadata": {},
   "source": [
    "#  Main scraping process. "
   ]
  },
  {
   "cell_type": "code",
   "execution_count": null,
   "id": "c5caba2b-b5a6-44af-9cf1-8e095563b66a",
   "metadata": {
    "scrolled": true
   },
   "outputs": [
    {
     "name": "stdout",
     "output_type": "stream",
     "text": [
      "Debut du scraping Avito.ma...\n",
      "Collecte des liens d'annonces...\n",
      " Page 1 traitée - 35 nouvelles annonces\n",
      "\n",
      "Total des annonces uniques trouvées : 35\n",
      "35 lien(s) trouvé(s).\n",
      "Debut du scraping des 35 annonces...\n",
      "Traitement 1/35: https://www.avito.ma/fr/drissia/voitures_d'occasion/Land_Rov...\n",
      "Script Body :  <class 'bs4.element.Tag'>\n",
      "Erreur inattendue sur https://www.avito.ma/fr/drissia/voitures_d'occasion/Land_Rov...: 'search'\n",
      "Traitement 2/35: https://www.avito.ma/fr/drissia/voitures_d'occasion/Volkswag...\n",
      "Script Body :  <class 'bs4.element.Tag'>\n",
      "Erreur inattendue sur https://www.avito.ma/fr/drissia/voitures_d'occasion/Volkswag...: 'search'\n",
      "Traitement 3/35: https://www.avito.ma/fr/anfa/voitures_de_location/LOCATION_D...\n",
      "Script Body :  <class 'bs4.element.Tag'>\n",
      "Erreur inattendue sur https://www.avito.ma/fr/anfa/voitures_de_location/LOCATION_D...: 'search'\n",
      "Traitement 4/35: https://www.avito.ma/fr/ain_sebaa/voitures_de_location/Locat...\n",
      "Script Body :  <class 'bs4.element.Tag'>\n",
      "Erreur inattendue sur https://www.avito.ma/fr/ain_sebaa/voitures_de_location/Locat...: 'search'\n",
      "Traitement 5/35: https://www.avito.ma/fr/drissia/voitures_d'occasion/HYUNDAI_...\n",
      "Script Body :  <class 'bs4.element.Tag'>\n",
      "Erreur inattendue sur https://www.avito.ma/fr/drissia/voitures_d'occasion/HYUNDAI_...: 'search'\n",
      "Traitement 6/35: https://www.avito.ma/fr/2_mars/voitures_d'occasion/Dacia_Log...\n",
      "Script Body :  <class 'bs4.element.Tag'>\n",
      "Erreur inattendue sur https://www.avito.ma/fr/2_mars/voitures_d'occasion/Dacia_Log...: 'search'\n",
      "Traitement 7/35: https://www.avito.ma/fr/centre/voitures_d'occasion/Ford_Fies...\n",
      "Script Body :  <class 'bs4.element.Tag'>\n",
      "Erreur inattendue sur https://www.avito.ma/fr/centre/voitures_d'occasion/Ford_Fies...: 'search'\n",
      "Traitement 8/35: https://www.avito.ma/fr/ben_m'sick/voitures_d'occasion/huynd...\n",
      "Script Body :  <class 'bs4.element.Tag'>\n",
      "Erreur inattendue sur https://www.avito.ma/fr/ben_m'sick/voitures_d'occasion/huynd...: 'search'\n",
      "Traitement 9/35: https://www.avito.ma/fr/2_mars/voitures_de_location/Location...\n",
      "Script Body :  <class 'bs4.element.Tag'>\n",
      "Erreur inattendue sur https://www.avito.ma/fr/2_mars/voitures_de_location/Location...: 'search'\n",
      "Traitement 10/35: https://www.avito.ma/fr/autre_secteur/voitures_d'occasion/Re...\n",
      "Script Body :  <class 'bs4.element.Tag'>\n",
      "Erreur inattendue sur https://www.avito.ma/fr/autre_secteur/voitures_d'occasion/Re...: 'search'\n"
     ]
    }
   ],
   "source": [
    "if __name__ == \"__main__\":\n",
    "    print(\"Debut du scraping Avito.ma...\")\n",
    "    \n",
    "    # Étape 1 : Récupération des liens\n",
    "    print(\"Collecte des liens d'annonces...\")\n",
    "    car_links = get_car_links(pages=1) \n",
    "    print(f\"{len(car_links)} lien(s) trouvé(s).\")\n",
    "\n",
    "    # Étape 2 : Scraping des détails de chaque annonce\n",
    "    print(f\"Debut du scraping des {len(car_links)} annonces...\")\n",
    "    results = []\n",
    "\n",
    "    for i, link in enumerate(car_links, 1):\n",
    "        print(f\"Traitement {i}/{len(car_links)}: {link[:60]}...\")\n",
    "        try:\n",
    "            car_data = scrape_car_details(link)\n",
    "            print('----------- : ',car_data)\n",
    "            if car_data:\n",
    "                results.append(car_data)\n",
    "                print(\"\\n \\n \\n Données extraites avec succès.\")\n",
    "            else:\n",
    "                print(\"Données manquantes ou erreur de parsing.\")\n",
    "        except Exception as e:\n",
    "            print(f\"Erreur inattendue sur {link[:60]}...: {str(e)}\")\n",
    "        \n",
    "        time.sleep(4) \n",
    "\n",
    "    # Étape 3 : Sauvegarde des résultats en JSON\n",
    "    if results:\n",
    "        with open('avito_voitures_20242.json', 'w', encoding='utf-8') as f:\n",
    "            json.dump(results, f, ensure_ascii=False, indent=2)\n",
    "        print(f\"Scraping terminé. {len(results)} annonces sauvegardées dans 'avito_voitures_20242.json'.\")\n",
    "    else:\n",
    "        print(\"Aucune donnée récupérée. Vérifie le scraping ou les classes HTML.\")\n"
   ]
  },
  {
   "cell_type": "markdown",
   "id": "e2034b5e-702e-4fa2-8b1f-9484001ea742",
   "metadata": {},
   "source": [
    "# Charger les données depuis le fichier JSON : overwrite the excel file"
   ]
  },
  {
   "cell_type": "code",
   "execution_count": null,
   "id": "3b7db191-310e-4aea-81da-6f2faff22658",
   "metadata": {},
   "outputs": [],
   "source": [
    "with open('avito_voitures_20242.json', 'r', encoding='utf-8') as f:\n",
    "    data = json.load(f)\n",
    "\n",
    "# Convertir en DataFrame\n",
    "df = pd.DataFrame(data)\n",
    "\n",
    "# Enregistrer en Excel\n",
    "df.to_excel('voitures_avito.xlsx', index=False, engine='openpyxl')\n",
    "\n",
    "print(\"Fichier Excel créé avec succès!\")"
   ]
  },
  {
   "cell_type": "code",
   "execution_count": null,
   "id": "1c37b0ff-1e17-41e8-b81e-5c17dd7fdcdb",
   "metadata": {},
   "outputs": [],
   "source": []
  }
 ],
 "metadata": {
  "kernelspec": {
   "display_name": "Python 3 (ipykernel)",
   "language": "python",
   "name": "python3"
  },
  "language_info": {
   "codemirror_mode": {
    "name": "ipython",
    "version": 3
   },
   "file_extension": ".py",
   "mimetype": "text/x-python",
   "name": "python",
   "nbconvert_exporter": "python",
   "pygments_lexer": "ipython3",
   "version": "3.12.7"
  }
 },
 "nbformat": 4,
 "nbformat_minor": 5
}
